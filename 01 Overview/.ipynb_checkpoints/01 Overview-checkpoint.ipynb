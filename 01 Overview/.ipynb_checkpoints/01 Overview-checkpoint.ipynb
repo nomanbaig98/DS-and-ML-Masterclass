{
 "cells": [
  {
   "cell_type": "code",
   "execution_count": 1,
   "id": "6791a360",
   "metadata": {},
   "outputs": [],
   "source": [
    "#Lectures ppt link"
   ]
  },
  {
   "cell_type": "markdown",
   "id": "a112fe5b",
   "metadata": {},
   "source": [
    "https://drive.google.com/drive/folders/1G8swfy10kHvNTK503Q6uPTY-CpX2Xdqy"
   ]
  },
  {
   "cell_type": "code",
   "execution_count": null,
   "id": "dfa54780",
   "metadata": {},
   "outputs": [],
   "source": []
  }
 ],
 "metadata": {
  "kernelspec": {
   "display_name": "Python 3 (ipykernel)",
   "language": "python",
   "name": "python3"
  },
  "language_info": {
   "codemirror_mode": {
    "name": "ipython",
    "version": 3
   },
   "file_extension": ".py",
   "mimetype": "text/x-python",
   "name": "python",
   "nbconvert_exporter": "python",
   "pygments_lexer": "ipython3",
   "version": "3.9.12"
  }
 },
 "nbformat": 4,
 "nbformat_minor": 5
}
